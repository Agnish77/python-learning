{
  "nbformat": 4,
  "nbformat_minor": 0,
  "metadata": {
    "colab": {
      "provenance": []
    },
    "kernelspec": {
      "name": "python3",
      "display_name": "Python 3"
    },
    "language_info": {
      "name": "python"
    }
  },
  "cells": [
    {
      "cell_type": "code",
      "execution_count": 8,
      "metadata": {
        "id": "C38ca__Mafaj"
      },
      "outputs": [],
      "source": [
        "  marks={\n",
        "      \"Harry\":100,\n",
        "      \"Shubham\":56,\n",
        "      \"Rohan\": 23,\n",
        "      0:\"Hayy\"\n",
        "}"
      ]
    },
    {
      "cell_type": "code",
      "source": [
        "#print(marks[0])/ does not work"
      ],
      "metadata": {
        "id": "bexCcPKwcHbT"
      },
      "execution_count": 6,
      "outputs": []
    },
    {
      "cell_type": "code",
      "source": [
        "print(marks,type(marks))"
      ],
      "metadata": {
        "colab": {
          "base_uri": "https://localhost:8080/"
        },
        "id": "llW1kivHctEa",
        "outputId": "78266ff3-929b-4510-f198-bf91ab61f60d"
      },
      "execution_count": 5,
      "outputs": [
        {
          "output_type": "stream",
          "name": "stdout",
          "text": [
            "{'Harry': 100, 'Shubham': 56, 'Rohan': 23} <class 'dict'>\n"
          ]
        }
      ]
    },
    {
      "cell_type": "code",
      "source": [
        "marks.items()"
      ],
      "metadata": {
        "colab": {
          "base_uri": "https://localhost:8080/"
        },
        "id": "uvLg9rfJcv-T",
        "outputId": "78085b66-aef8-4437-88f8-34faeb268cbe"
      },
      "execution_count": 10,
      "outputs": [
        {
          "output_type": "execute_result",
          "data": {
            "text/plain": [
              "dict_items([('Harry', 100), ('Shubham', 56), ('Rohan', 23), (0, 'Hayy')])"
            ]
          },
          "metadata": {},
          "execution_count": 10
        }
      ]
    },
    {
      "cell_type": "code",
      "source": [
        "marks.keys()"
      ],
      "metadata": {
        "colab": {
          "base_uri": "https://localhost:8080/"
        },
        "id": "44mPXkmqdoY8",
        "outputId": "6b64b3ea-898d-475f-cf57-331606884488"
      },
      "execution_count": 11,
      "outputs": [
        {
          "output_type": "execute_result",
          "data": {
            "text/plain": [
              "dict_keys(['Harry', 'Shubham', 'Rohan', 0])"
            ]
          },
          "metadata": {},
          "execution_count": 11
        }
      ]
    },
    {
      "cell_type": "code",
      "source": [
        "marks.values()"
      ],
      "metadata": {
        "colab": {
          "base_uri": "https://localhost:8080/"
        },
        "id": "Q1lb42yrdu4x",
        "outputId": "7e8ae35c-9a02-4eb7-a662-353955d9bff8"
      },
      "execution_count": 12,
      "outputs": [
        {
          "output_type": "execute_result",
          "data": {
            "text/plain": [
              "dict_values([100, 56, 23, 'Hayy'])"
            ]
          },
          "metadata": {},
          "execution_count": 12
        }
      ]
    },
    {
      "cell_type": "code",
      "source": [
        "marks.update({\"Rohan\":100,\"Renuka\":100})"
      ],
      "metadata": {
        "id": "vAnEYZWadyML"
      },
      "execution_count": 14,
      "outputs": []
    },
    {
      "cell_type": "code",
      "source": [
        "marks"
      ],
      "metadata": {
        "colab": {
          "base_uri": "https://localhost:8080/"
        },
        "id": "83_BPUR3d9gW",
        "outputId": "f6ef7ff1-882b-4de1-c6b7-8651d538fe14"
      },
      "execution_count": 15,
      "outputs": [
        {
          "output_type": "execute_result",
          "data": {
            "text/plain": [
              "{'Harry': 100, 'Shubham': 56, 'Rohan': 100, 0: 'Hayy', 'Renuka': 100}"
            ]
          },
          "metadata": {},
          "execution_count": 15
        }
      ]
    },
    {
      "cell_type": "code",
      "source": [
        "marks.get(\"Rohan\")"
      ],
      "metadata": {
        "colab": {
          "base_uri": "https://localhost:8080/"
        },
        "id": "b2xwy22YeDwF",
        "outputId": "b93cca58-6e15-4580-ea75-6296be423f09"
      },
      "execution_count": 16,
      "outputs": [
        {
          "output_type": "execute_result",
          "data": {
            "text/plain": [
              "100"
            ]
          },
          "metadata": {},
          "execution_count": 16
        }
      ]
    },
    {
      "cell_type": "code",
      "source": [
        "# see pop and pop item method\n",
        "d={} #empty dict"
      ],
      "metadata": {
        "id": "EkJH3Gk5eHcN"
      },
      "execution_count": null,
      "outputs": []
    },
    {
      "cell_type": "code",
      "source": [
        "s={1,5,32}\n",
        "#e=set()  empty set"
      ],
      "metadata": {
        "id": "de6Oi81mepkO"
      },
      "execution_count": 18,
      "outputs": []
    },
    {
      "cell_type": "code",
      "source": [
        "#no repition\n",
        "#order hole list kintu nahole repeat na chaile set"
      ],
      "metadata": {
        "id": "nEh26m4ohcmW"
      },
      "execution_count": null,
      "outputs": []
    },
    {
      "cell_type": "code",
      "source": [
        "e={1,4,5,\"Harry\"}"
      ],
      "metadata": {
        "id": "ofBlKY3th_X9"
      },
      "execution_count": 19,
      "outputs": []
    },
    {
      "cell_type": "code",
      "source": [
        "e.add(566)"
      ],
      "metadata": {
        "id": "Fuuum9fliDfQ"
      },
      "execution_count": 20,
      "outputs": []
    },
    {
      "cell_type": "code",
      "source": [
        "len(e)"
      ],
      "metadata": {
        "colab": {
          "base_uri": "https://localhost:8080/"
        },
        "id": "mdLWlCawiFhO",
        "outputId": "a2703a9a-d556-4a26-e01e-d03aa49ba0c1"
      },
      "execution_count": 21,
      "outputs": [
        {
          "output_type": "execute_result",
          "data": {
            "text/plain": [
              "5"
            ]
          },
          "metadata": {},
          "execution_count": 21
        }
      ]
    },
    {
      "cell_type": "code",
      "source": [
        "s.remove(1)"
      ],
      "metadata": {
        "id": "tUJdwEFoid2-"
      },
      "execution_count": 22,
      "outputs": []
    },
    {
      "cell_type": "code",
      "source": [
        "#s.pop() ->random hatay\n",
        "#s.clear() puro emtpy kore dey"
      ],
      "metadata": {
        "id": "VgJQkUPIigk0"
      },
      "execution_count": null,
      "outputs": []
    },
    {
      "cell_type": "code",
      "source": [
        "s1={1,2,3,4,5}\n",
        "s2={4,5,6,7,8}\n",
        "print(s1.union(s2))"
      ],
      "metadata": {
        "colab": {
          "base_uri": "https://localhost:8080/"
        },
        "id": "Y_dv2Gm6iuz-",
        "outputId": "452019be-4065-4ea6-a8f3-ea532456751d"
      },
      "execution_count": 23,
      "outputs": [
        {
          "output_type": "stream",
          "name": "stdout",
          "text": [
            "{1, 2, 3, 4, 5, 6, 7, 8}\n"
          ]
        }
      ]
    },
    {
      "cell_type": "code",
      "source": [
        "print(s1.intersection(s2))"
      ],
      "metadata": {
        "colab": {
          "base_uri": "https://localhost:8080/"
        },
        "id": "MV1LzqQOi0ui",
        "outputId": "b7386685-4c26-450b-e24c-aad2ac1f73ca"
      },
      "execution_count": 24,
      "outputs": [
        {
          "output_type": "stream",
          "name": "stdout",
          "text": [
            "{4, 5}\n"
          ]
        }
      ]
    },
    {
      "cell_type": "code",
      "source": [
        "#isubset or issuperset, keys are unique\n",
        "#Lists cannot be added to a set"
      ],
      "metadata": {
        "id": "utBoy0kki7CZ"
      },
      "execution_count": null,
      "outputs": []
    },
    {
      "cell_type": "code",
      "source": [
        "word=input(\"Ebter the word you want meaning\")"
      ],
      "metadata": {
        "id": "SofR8LKgk_bT"
      },
      "execution_count": null,
      "outputs": []
    }
  ]
}